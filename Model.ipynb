{
 "cells": [
  {
   "cell_type": "markdown",
   "metadata": {},
   "source": [
    "# Model 1\n",
    "\n",
    "In this document I describe a simulation of an economy that consists of the following agents:\n",
    "\n",
    "1. B2B company\n",
    "2. B2C company\n",
    "3. Workers (emplyees of B2B and B2C companies)\n",
    "4. Financial system\n",
    "5. B2B market\n",
    "6. B2C market\n",
    "\n",
    "Their purpose will become evident in the following description of simulation steps."
   ]
  },
  {
   "cell_type": "code",
   "execution_count": 13,
   "metadata": {},
   "outputs": [],
   "source": [
    "from graphviz import Digraph\n",
    "from graphviz import Digraph\n",
    "from graphviz import Graph\n",
    "import copy\n",
    "import sympy\n",
    "from sympy import symbols\n",
    "from IPython.display import HTML, display\n",
    "import tabulate"
   ]
  },
  {
   "cell_type": "code",
   "execution_count": 17,
   "metadata": {},
   "outputs": [],
   "source": [
    "import Unit\n",
    "import InventoryTx\n",
    "import Inventory\n",
    "import AccountingTx\n",
    "import Location\n",
    "import SimulationParameters\n",
    "import State\n",
    "import Resource\n",
    "import Amount\n",
    "import StateTransition"
   ]
  },
  {
   "cell_type": "code",
   "execution_count": 19,
   "metadata": {},
   "outputs": [
    {
     "ename": "NameError",
     "evalue": "name 'Inventory' is not defined",
     "output_type": "error",
     "traceback": [
      "\u001b[1;31m---------------------------------------------------------------------------\u001b[0m",
      "\u001b[1;31mNameError\u001b[0m                                 Traceback (most recent call last)",
      "\u001b[1;32m<ipython-input-19-ffccffa47e9c>\u001b[0m in \u001b[0;36m<module>\u001b[1;34m()\u001b[0m\n\u001b[1;32m----> 1\u001b[1;33m \u001b[0mfs\u001b[0m \u001b[1;33m=\u001b[0m \u001b[0mLocation\u001b[0m\u001b[1;33m.\u001b[0m\u001b[0mLocation\u001b[0m\u001b[1;33m(\u001b[0m\u001b[0mLocation\u001b[0m\u001b[1;33m.\u001b[0m\u001b[0mLocation\u001b[0m\u001b[1;33m.\u001b[0m\u001b[0mFS\u001b[0m\u001b[1;33m)\u001b[0m\u001b[1;33m\u001b[0m\u001b[0m\n\u001b[0m\u001b[0;32m      2\u001b[0m \u001b[0mfs\u001b[0m\u001b[1;33m.\u001b[0m\u001b[0maccounts\u001b[0m\u001b[1;33m.\u001b[0m\u001b[0mappend\u001b[0m\u001b[1;33m(\u001b[0m\u001b[0mAccount\u001b[0m\u001b[1;33m(\u001b[0m\u001b[0mAccount\u001b[0m\u001b[1;33m.\u001b[0m\u001b[0mACCOUNTS_RECEIVABLE\u001b[0m\u001b[1;33m)\u001b[0m\u001b[1;33m)\u001b[0m\u001b[1;33m\u001b[0m\u001b[0m\n\u001b[0;32m      3\u001b[0m \u001b[1;33m\u001b[0m\u001b[0m\n\u001b[0;32m      4\u001b[0m \u001b[0mb2bCompany\u001b[0m \u001b[1;33m=\u001b[0m \u001b[0mLocation\u001b[0m\u001b[1;33m(\u001b[0m\u001b[0mLocation\u001b[0m\u001b[1;33m.\u001b[0m\u001b[0mB2B_COMPANY\u001b[0m\u001b[1;33m)\u001b[0m\u001b[1;33m\u001b[0m\u001b[0m\n\u001b[0;32m      5\u001b[0m \u001b[0mb2bCompany\u001b[0m\u001b[1;33m.\u001b[0m\u001b[0maccounts\u001b[0m\u001b[1;33m.\u001b[0m\u001b[0mappend\u001b[0m\u001b[1;33m(\u001b[0m\u001b[0mAccount\u001b[0m\u001b[1;33m(\u001b[0m\u001b[0mAccount\u001b[0m\u001b[1;33m.\u001b[0m\u001b[0mACCOUNTS_PAYABLE\u001b[0m\u001b[1;33m)\u001b[0m\u001b[1;33m)\u001b[0m\u001b[1;33m\u001b[0m\u001b[0m\n",
      "\u001b[1;32mC:\\usr\\dp\\dev\\economy-theory\\2018_12_20_model\\Location.py\u001b[0m in \u001b[0;36m__init__\u001b[1;34m(self, name)\u001b[0m\n\u001b[0;32m     12\u001b[0m     \u001b[1;32mdef\u001b[0m \u001b[0m__init__\u001b[0m\u001b[1;33m(\u001b[0m\u001b[0mself\u001b[0m\u001b[1;33m,\u001b[0m \u001b[0mname\u001b[0m\u001b[1;33m)\u001b[0m\u001b[1;33m:\u001b[0m\u001b[1;33m\u001b[0m\u001b[0m\n\u001b[0;32m     13\u001b[0m         \u001b[0mself\u001b[0m\u001b[1;33m.\u001b[0m\u001b[0mobjects\u001b[0m \u001b[1;33m=\u001b[0m \u001b[1;33m[\u001b[0m\u001b[1;33m]\u001b[0m\u001b[1;33m\u001b[0m\u001b[0m\n\u001b[1;32m---> 14\u001b[1;33m         \u001b[0mself\u001b[0m\u001b[1;33m.\u001b[0m\u001b[0mname\u001b[0m \u001b[1;33m=\u001b[0m \u001b[0mname\u001b[0m\u001b[1;33m\u001b[0m\u001b[0m\n\u001b[0m\u001b[0;32m     15\u001b[0m         \u001b[0mself\u001b[0m\u001b[1;33m.\u001b[0m\u001b[0maccounts\u001b[0m \u001b[1;33m=\u001b[0m \u001b[1;33m[\u001b[0m\u001b[1;33m]\u001b[0m\u001b[1;33m\u001b[0m\u001b[0m\n\u001b[0;32m     16\u001b[0m         \u001b[0mself\u001b[0m\u001b[1;33m.\u001b[0m\u001b[0minventory\u001b[0m \u001b[1;33m=\u001b[0m \u001b[0mInventory\u001b[0m\u001b[1;33m.\u001b[0m\u001b[0mInventory\u001b[0m\u001b[1;33m(\u001b[0m\u001b[1;33m)\u001b[0m\u001b[1;33m\u001b[0m\u001b[0m\n",
      "\u001b[1;31mNameError\u001b[0m: name 'Inventory' is not defined"
     ]
    }
   ],
   "source": [
    "fs = Location.Location(Location.Location.FS)\n",
    "fs.accounts.append(Account(Account.ACCOUNTS_RECEIVABLE))\n",
    "\n",
    "b2bCompany = Location(Location.B2B_COMPANY)\n",
    "b2bCompany.accounts.append(Account(Account.ACCOUNTS_PAYABLE))\n",
    "b2bCompany.accounts.append(Account(Account.CASH))\n",
    "\n",
    "b2cCompany = Location(Location.B2C_COMPANY)\n",
    "b2cCompany.accounts.append(Account(Account.ACCOUNTS_PAYABLE))\n",
    "\n",
    "marketB2B = Location(Location.B2B_MARKET)\n",
    "marketB2C = Location(Location.B2C_MARKET)\n",
    "b2bWorker = Location(Location.B2B_WORKER)\n",
    "b2bWorker.accounts.append(Account(Account.CASH))\n",
    "b2cWorker = Location(Location.B2C_WORKER)"
   ]
  },
  {
   "cell_type": "code",
   "execution_count": null,
   "metadata": {},
   "outputs": [],
   "source": [
    "initialState = State()\n",
    "initialState.locations.append(fs)\n",
    "initialState.locations.append(b2bCompany)\n",
    "initialState.locations.append(marketB2B)\n",
    "initialState.locations.append(b2cCompany)\n",
    "initialState.locations.append(marketB2C)\n",
    "initialState.locations.append(b2bWorker)\n",
    "initialState.locations.append(b2cWorker)"
   ]
  },
  {
   "cell_type": "code",
   "execution_count": null,
   "metadata": {},
   "outputs": [],
   "source": [
    "def acctView(transition, state):\n",
    "    newState = transition.run(state)\n",
    "    transition.acctView(newState)"
   ]
  },
  {
   "cell_type": "code",
   "execution_count": null,
   "metadata": {},
   "outputs": [],
   "source": [
    "simSteps = []"
   ]
  },
  {
   "cell_type": "code",
   "execution_count": null,
   "metadata": {},
   "outputs": [],
   "source": [
    "currentState = initialState"
   ]
  },
  {
   "cell_type": "markdown",
   "metadata": {},
   "source": [
    "This is what the accounts look like in the initial state of simulation:"
   ]
  },
  {
   "cell_type": "code",
   "execution_count": null,
   "metadata": {},
   "outputs": [],
   "source": [
    "currentState.acctView()"
   ]
  },
  {
   "cell_type": "markdown",
   "metadata": {},
   "source": [
    "![Overview over simulation components](img/img04.png)"
   ]
  },
  {
   "cell_type": "markdown",
   "metadata": {},
   "source": [
    "## Simulation Steps\n",
    "\n",
    "### Step 1: Financial system generates money\n",
    "\n",
    "![Step 1](img/img05.png)\n",
    "\n",
    "In this step, the financial system (including private and the central bank) generates two amounts of money:\n",
    "\n",
    "* `M1`: Money, which will be used by the B2B company to pay for everything it needs to produce its output.\n",
    "* `M2`: Money for the B2C company.\n",
    "\n",
    "In this simulation we ignore the fact that both companies need to buy inputs (raw materials, energy) in order to produce. `M1` and `M2` will be used by the companies to pay the wages of the workers (which must be paid in advance, i. e. before companies sold their products on the market).\n",
    "\n",
    "In this step, the financial system generates the required amounts of money, unless it already has them. We assume that the financial system can generate (print) money however it wants. Money is not backed by any asset (like gold)."
   ]
  },
  {
   "cell_type": "code",
   "execution_count": null,
   "metadata": {},
   "outputs": [],
   "source": [
    "class FinancialSystemGeneratesMoney(StateTransition):\n",
    "    def run(self, oldState):        \n",
    "        newState = copy.deepcopy(oldState)\n",
    "        newState.step = oldState.step + 1\n",
    "        newState.comment = \"Financial system generates (adjusts) the amount of money\"\n",
    "        self.put(newState, Resource.B2B_LOAN, Location.FS)\n",
    "        self.put(newState, Resource.B2C_LOAN, Location.FS)\n",
    "        return newState\n"
   ]
  },
  {
   "cell_type": "code",
   "execution_count": null,
   "metadata": {},
   "outputs": [],
   "source": [
    "currentState = FinancialSystemGeneratesMoney().run(currentState)"
   ]
  },
  {
   "cell_type": "markdown",
   "metadata": {},
   "source": [
    "#### Accounting perspective\n",
    "\n",
    "This step does not have an accounting representation because\n",
    "\n",
    "* essentially, the financial system generates money out of thin air and\n",
    "* normal accounting principles don't work well with such phenomena.\n",
    "\n",
    "Therefore there are no accounting transactions in this step."
   ]
  },
  {
   "cell_type": "code",
   "execution_count": null,
   "metadata": {},
   "outputs": [],
   "source": [
    "# TODO: Can we remove simSteps?\n",
    "\n",
    "simSteps.append(FinancialSystemGeneratesMoney())"
   ]
  },
  {
   "cell_type": "markdown",
   "metadata": {},
   "source": [
    "### Step 2: Financial System lends money to companies\n",
    "\n",
    "Financial System lends money `M1` and `M2` to B2B and B2C companies, respectively, at interest rate `I0`. Two money cubes (`M1` and `M2`) move from the financial system to the respective company (see red ellipses).\n",
    "\n",
    "At the same time, each cubes gets an additional piece of information attached to it -- the interest rate `I0`, by which the debt will grow at the end of the cycle.\n",
    "\n",
    "![Step 2: Financial System lends money to companies](img/img06.png)\n"
   ]
  },
  {
   "cell_type": "code",
   "execution_count": null,
   "metadata": {},
   "outputs": [],
   "source": [
    "class FinancialSystemInjectsLoans(StateTransition):\n",
    "    def run(self, oldState):\n",
    "        newState = copy.deepcopy(oldState)\n",
    "        simStep = oldState.step + 1\n",
    "        newState.step = simStep\n",
    "        newState.comment = \"Financial system injects loans with a certain interest rate to the companies\"\n",
    "        self.move(newState, Resource.B2B_LOAN, Location.FS, Location.B2B_COMPANY)\n",
    "        self.move(newState, Resource.B2C_LOAN, Location.FS, Location.B2C_COMPANY)\n",
    "        \n",
    "        # B2B_LOAN (start)\n",
    "        self.put(newState, Resource.B2B_LOAN, Location.FS)\n",
    "        tx = AccountingTx(Unit.CURRENCY, \"M1\", simStep, \"FS's loan to B2B company\")\n",
    "        cAcct = self.findAccount(newState, Location.B2B_COMPANY, Account.ACCOUNTS_PAYABLE)\n",
    "        dAcct = self.findAccount(newState, Location.FS, Account.ACCOUNTS_RECEIVABLE)\n",
    "        self.acctTx(tx, cAcct, dAcct)\n",
    "        # B2B_LOAN (end)\n",
    "        \n",
    "        # B2C_LOAN (start)\n",
    "        self.put(newState, Resource.B2C_LOAN, Location.FS)\n",
    "        tx = AccountingTx(Unit.CURRENCY, \"M2\", simStep, \"FS's loan to B2C company\")\n",
    "        cAcct = self.findAccount(newState, Location.B2C_COMPANY, Account.ACCOUNTS_PAYABLE)\n",
    "        dAcct = self.findAccount(newState, Location.FS, Account.ACCOUNTS_RECEIVABLE)\n",
    "        self.acctTx(tx, cAcct, dAcct)\n",
    "        # B2C_LOAN (end)\n",
    "        \n",
    "        return newState"
   ]
  },
  {
   "cell_type": "code",
   "execution_count": null,
   "metadata": {},
   "outputs": [],
   "source": [
    "print(\",\\n\".join(str(x) for x in currentState.locations))"
   ]
  },
  {
   "cell_type": "code",
   "execution_count": null,
   "metadata": {},
   "outputs": [],
   "source": [
    "tempFs = next(x for x in currentState.locations if x.name == Location.FS)\n",
    "print(\"Found: \" + str(tempFs))\n",
    "tempFs.objects"
   ]
  },
  {
   "cell_type": "code",
   "execution_count": null,
   "metadata": {},
   "outputs": [],
   "source": [
    "currentState = FinancialSystemInjectsLoans().run(currentState)"
   ]
  },
  {
   "cell_type": "markdown",
   "metadata": {},
   "source": [
    "#### Accounting perspective\n",
    "\n",
    "This is what this step looks like from an accountant's point of view:"
   ]
  },
  {
   "cell_type": "code",
   "execution_count": null,
   "metadata": {},
   "outputs": [],
   "source": [
    "currentState.acctView()"
   ]
  },
  {
   "cell_type": "markdown",
   "metadata": {},
   "source": [
    "### Step 3: B2B company pays wages to its worker\n",
    "\n",
    "In this step, the B2B company pays its worker the wages (from the `M1` money). We leave the cube at the B2B company to indicate the debt. At the same time, another money cube `M3` appears at the B2B worker.\n",
    "\n",
    "![Step 3: B2B company pays wages to its worker](img/img07_step03.png)\n"
   ]
  },
  {
   "cell_type": "code",
   "execution_count": null,
   "metadata": {},
   "outputs": [],
   "source": [
    "class B2BCompanyPaysEmployee(StateTransition):\n",
    "    def run(self, oldState):\n",
    "        newState = copy.deepcopy(oldState)\n",
    "        simStep = oldState.step + 1\n",
    "        newState.step = simStep\n",
    "        newState.comment = \"B2B Company Pays its Employees\"\n",
    "        b2bWorker = self.findByName(newState.locations, Location.B2B_WORKER)\n",
    "        wages = Resource(Resource.WAGES_B2B)\n",
    "        b2bWorker.objects.append(wages)\n",
    "        # Accounting transaction (start)    \n",
    "        tx = AccountingTx(Unit.CURRENCY, \"M3\", simStep, \"Wages paid by the B2B company to B2B worker\")\n",
    "        cAcct = self.findAccount(newState, Location.B2B_COMPANY, Account.CASH)\n",
    "        dAcct = self.findAccount(newState, Location.B2B_WORKER, Account.CASH)\n",
    "        self.acctTx(tx, cAcct, dAcct)        \n",
    "        # Accounting transaction (end)\n",
    "        return newState\n"
   ]
  },
  {
   "cell_type": "code",
   "execution_count": null,
   "metadata": {},
   "outputs": [],
   "source": [
    "currentState = B2BCompanyPaysEmployee().run(currentState)"
   ]
  },
  {
   "cell_type": "markdown",
   "metadata": {},
   "source": [
    "#### Accounting perspective"
   ]
  },
  {
   "cell_type": "code",
   "execution_count": null,
   "metadata": {},
   "outputs": [],
   "source": [
    "currentState.acctView()"
   ]
  },
  {
   "cell_type": "markdown",
   "metadata": {},
   "source": [
    "In this step the wages `M3` flow from the B2B company to B2B worker. B2B Company's cash account is credited with `M3`, B2B worker's cash account is credited with the same amount."
   ]
  },
  {
   "cell_type": "markdown",
   "metadata": {},
   "source": [
    "### Step 4: The B2B company produces its output\n",
    "\n",
    "The B2B product is denoted `R1`. `R` means *resource*.\n",
    "\n",
    "![Step 4: The B2B company produces its output](img/img08_step04.png)\n"
   ]
  },
  {
   "cell_type": "code",
   "execution_count": null,
   "metadata": {},
   "outputs": [],
   "source": [
    "class B2BCompanyProduces(StateTransition):\n",
    "    def run(self, oldState):\n",
    "        newState = copy.deepcopy(oldState)\n",
    "        simStep = oldState.step + 1\n",
    "        newState.step = simStep\n",
    "        newState.comment = \"B2B Company Produces\"\n",
    "        b2bCompany = self.findByName(newState.locations, Location.B2B_COMPANY)\n",
    "        b2bProduct = Resource(Resource.B2B_PRODUCT)\n",
    "        # name, unit, quantity\n",
    "        cycleDurationInYears = symbols(\"cycleDurationInYears\")\n",
    "        numberOfB2BWorkers = symbols(\"numberOfB2BWorkers\")\n",
    "        reproductionValueExpr = cycleDurationInYears * numberOfB2BWorkers\n",
    "        reproductionValue = Amount(Amount.REPRODUCTION_VALUE,\n",
    "                                   Unit.LABOR_YEAR, \n",
    "                                   reproductionValueExpr)\n",
    "        b2bProduct.addAmount(reproductionValue)\n",
    "        b2bProductProduced = symbols(\"b2bProductProduced\")\n",
    "        b2bQuantityExpr = b2bProductProduced\n",
    "        b2bQuantity = Amount(Amount.PRODUCT_QUANTITY, Unit.PIECE, b2bQuantityExpr)\n",
    "        b2bProduct.amounts.append(b2bQuantity)\n",
    "        b2bCompany.objects.append(b2bProduct)\n",
    "        \n",
    "        # Inventory transaction\n",
    "        inventoryTx = InventoryTx(Resource.B2B_PRODUCT, Unit.LABOR_YEAR, 1.0, simStep, \"B2B company produces\")\n",
    "        b2bCompany.inventory.addTx(inventoryTx)\n",
    "        return newState\n"
   ]
  },
  {
   "cell_type": "code",
   "execution_count": null,
   "metadata": {},
   "outputs": [],
   "source": [
    "currentState = B2BCompanyProduces().run(currentState)"
   ]
  },
  {
   "cell_type": "markdown",
   "metadata": {},
   "source": [
    "#### Accounting perspective\n",
    "\n",
    "In this step there are no monetary movements between agents. However, B2B company produces something that did not exist before (B2B product) and this needs to be noted somehow.\n",
    "\n",
    "B2B product appears in the list of inventory transactions of B2B company."
   ]
  },
  {
   "cell_type": "code",
   "execution_count": null,
   "metadata": {},
   "outputs": [],
   "source": [
    "currentState.acctView()"
   ]
  },
  {
   "cell_type": "code",
   "execution_count": null,
   "metadata": {},
   "outputs": [],
   "source": [
    "simSteps.append(B2BCompanyProduces())"
   ]
  },
  {
   "cell_type": "markdown",
   "metadata": {},
   "source": [
    "### Step 5: B2B market setup\n",
    "\n",
    "In this step\n",
    "\n",
    "* the B2B company puts its output to the B2B market and\n",
    "* the B2C company decides, how much money (out of the `M2` loan) it is willing to spend on B2B product.\n",
    "\n",
    "This defines the limitations of the amount of B2B product that can change hands in this market at this time:\n",
    "\n",
    "* The B2B company cannot sell more product than it has.\n",
    "* The B2C company cannot spend more money than `M4`.\n",
    "\n",
    "![Step 5: B2B market setup](img/img09_step05.png)"
   ]
  },
  {
   "cell_type": "markdown",
   "metadata": {},
   "source": [
    "#### Accounting perspective\n",
    "\n",
    "TODO"
   ]
  },
  {
   "cell_type": "code",
   "execution_count": null,
   "metadata": {},
   "outputs": [],
   "source": [
    "# TODO, continue here: Step 5, B2B market setup. Make provisions for modeling \n",
    "# several cases:\n",
    "# 1) perfect market clearing\n",
    "# 2) excess demand\n",
    "# 3) excess supply\n",
    "#\n",
    "# Maybe create a function that models the logic behind the decisions of\n",
    "# a. B2B company of how much to produce and\n",
    "# b. B2C company of how much to buy."
   ]
  },
  {
   "cell_type": "markdown",
   "metadata": {},
   "source": [
    "From the accounting perspective, nothing happens in this step because it is used for better visualization only."
   ]
  },
  {
   "cell_type": "code",
   "execution_count": 5,
   "metadata": {},
   "outputs": [
    {
     "ename": "TypeError",
     "evalue": "module.__init__() takes at most 2 arguments (3 given)",
     "output_type": "error",
     "traceback": [
      "\u001b[1;31m---------------------------------------------------------------------------\u001b[0m",
      "\u001b[1;31mTypeError\u001b[0m                                 Traceback (most recent call last)",
      "\u001b[1;32m<ipython-input-5-11a21ef5ee75>\u001b[0m in \u001b[0;36m<module>\u001b[1;34m()\u001b[0m\n\u001b[1;32m----> 1\u001b[1;33m \u001b[1;32mclass\u001b[0m \u001b[0mB2BCompanySellsProductToB2CCompany1\u001b[0m\u001b[1;33m(\u001b[0m\u001b[0mStateTransition\u001b[0m\u001b[1;33m)\u001b[0m\u001b[1;33m:\u001b[0m\u001b[1;33m\u001b[0m\u001b[0m\n\u001b[0m\u001b[0;32m      2\u001b[0m     \u001b[1;32mdef\u001b[0m \u001b[0mrun\u001b[0m\u001b[1;33m(\u001b[0m\u001b[0mself\u001b[0m\u001b[1;33m,\u001b[0m \u001b[0moldState\u001b[0m\u001b[1;33m)\u001b[0m\u001b[1;33m:\u001b[0m\u001b[1;33m\u001b[0m\u001b[0m\n\u001b[0;32m      3\u001b[0m         \u001b[0mnewState\u001b[0m \u001b[1;33m=\u001b[0m \u001b[0mcopy\u001b[0m\u001b[1;33m.\u001b[0m\u001b[0mdeepcopy\u001b[0m\u001b[1;33m(\u001b[0m\u001b[0moldState\u001b[0m\u001b[1;33m)\u001b[0m\u001b[1;33m\u001b[0m\u001b[0m\n\u001b[0;32m      4\u001b[0m         \u001b[0mnewState\u001b[0m\u001b[1;33m.\u001b[0m\u001b[0mstep\u001b[0m \u001b[1;33m=\u001b[0m \u001b[0moldState\u001b[0m\u001b[1;33m.\u001b[0m\u001b[0mstep\u001b[0m \u001b[1;33m+\u001b[0m \u001b[1;36m1\u001b[0m\u001b[1;33m\u001b[0m\u001b[0m\n\u001b[0;32m      5\u001b[0m         \u001b[0mnewState\u001b[0m\u001b[1;33m.\u001b[0m\u001b[0mcomment\u001b[0m \u001b[1;33m=\u001b[0m \u001b[1;34m\"B2B company sells product to B2C company (1)\"\u001b[0m\u001b[1;33m\u001b[0m\u001b[0m\n",
      "\u001b[1;31mTypeError\u001b[0m: module.__init__() takes at most 2 arguments (3 given)"
     ]
    }
   ],
   "source": [
    "class B2BCompanySellsProductToB2CCompany1(StateTransition):\n",
    "    def run(self, oldState):\n",
    "        newState = copy.deepcopy(oldState)\n",
    "        newState.step = oldState.step + 1\n",
    "        newState.comment = \"B2B company sells product to B2C company (1)\"\n",
    "        self.move(newState, Resource.B2B_PRODUCT, Location.B2B_COMPANY, Location.MARKET_B2B)\n",
    "        self.put(newState, Resource.MONEY_FOR_B2B_PRODUCT, Location.MARKET_B2B)\n",
    "        return newState\n"
   ]
  },
  {
   "cell_type": "code",
   "execution_count": null,
   "metadata": {},
   "outputs": [],
   "source": [
    "simSteps.append(B2BCompanySellsProductToB2CCompany1())"
   ]
  },
  {
   "cell_type": "markdown",
   "metadata": {},
   "source": [
    "### Step 6: B2B company sells its product to B2C company\n",
    "\n",
    "The market decides\n",
    "\n",
    "* how much product the B2C company buys and\n",
    "* how much money the B2B company gets for it.\n",
    "\n",
    "Thereafter, \n",
    "\n",
    "* the `R1` cube (B2B product) moves to the B2C company and \n",
    "* the `M4` (the price for `R1` as determined by the market) moves to the B2B company.\n",
    "\n",
    "![Step 6: B2B company sells its product to B2C company](img/img10_step06.png)\n"
   ]
  },
  {
   "cell_type": "markdown",
   "metadata": {},
   "source": [
    "#### Accounting perspective\n",
    "\n",
    "TODO"
   ]
  },
  {
   "cell_type": "code",
   "execution_count": null,
   "metadata": {},
   "outputs": [],
   "source": [
    "class B2BCompanySellsProductToB2CCompany2(StateTransition):\n",
    "    def run(self, oldState):\n",
    "        newState = copy.deepcopy(oldState)\n",
    "        newState.step = oldState.step + 1\n",
    "        newState.comment = \"B2B company sells product to B2C company (2)\"\n",
    "        self.move(newState, Resource.B2B_PRODUCT, Location.MARKET_B2B, Location.B2C_COMPANY)\n",
    "        self.move(newState, Resource.MONEY_FOR_B2B_PRODUCT, Location.MARKET_B2B, Location.B2B_COMPANY)        \n",
    "        return newState\n"
   ]
  },
  {
   "cell_type": "code",
   "execution_count": null,
   "metadata": {},
   "outputs": [],
   "source": [
    "simSteps.append(B2BCompanySellsProductToB2CCompany2())"
   ]
  },
  {
   "cell_type": "markdown",
   "metadata": {},
   "source": [
    "### Step 7: B2C company pays its worker wages\n",
    "\n",
    "In this step the B2C company takes off a piece from the `M2` cube and gives it to the B2C worker.\n",
    "\n",
    "![Step 7: B2C company pays its worker wages](img/img11_step07.png)"
   ]
  },
  {
   "cell_type": "markdown",
   "metadata": {},
   "source": [
    "#### Accounting perspective\n",
    "\n",
    "TODO"
   ]
  },
  {
   "cell_type": "code",
   "execution_count": null,
   "metadata": {},
   "outputs": [],
   "source": [
    "class B2CCompanyPaysEmployee(StateTransition):\n",
    "    def run(self, oldState):\n",
    "        newState = copy.deepcopy(oldState)\n",
    "        newState.step = oldState.step + 1\n",
    "        newState.comment = \"B2C Company Pays its Employees\"\n",
    "        b2cWorker = self.findByName(newState.locations, Location.PERSON_2)\n",
    "        wages = Resource(Resource.WAGES_B2C)\n",
    "        b2cWorker.objects.append(wages)\n",
    "        return newState\n"
   ]
  },
  {
   "cell_type": "code",
   "execution_count": null,
   "metadata": {},
   "outputs": [],
   "source": [
    "simSteps.append(B2CCompanyPaysEmployee())"
   ]
  },
  {
   "cell_type": "markdown",
   "metadata": {},
   "source": [
    "### Step 8: B2C company produces\n",
    "\n",
    "B2C company produces B2C product `R2` using B2C worker's labor from the B2B product `R1`.\n",
    "\n",
    "![Step 8: B2C company produces](img/img12_step08a.png)"
   ]
  },
  {
   "cell_type": "markdown",
   "metadata": {},
   "source": [
    "#### Accounting perspective\n",
    "\n",
    "TODO"
   ]
  },
  {
   "cell_type": "code",
   "execution_count": null,
   "metadata": {},
   "outputs": [],
   "source": [
    "class B2CCompanyProduces(StateTransition):\n",
    "    def run(self, oldState):\n",
    "        newState = copy.deepcopy(oldState)\n",
    "        newState.step = oldState.step + 1\n",
    "        newState.comment = \"B2C Company Produces\"\n",
    "        b2cCompany = self.findByName(newState.locations, Location.B2C_COMPANY)\n",
    "        b2cProduct = Resource(Resource.B2C_PRODUCT)\n",
    "        b2cCompany.objects.append(b2cProduct)\n",
    "        self.removeFromLoc(newState, Location.B2C_COMPANY, Resource.B2B_PRODUCT)\n",
    "        return newState"
   ]
  },
  {
   "cell_type": "code",
   "execution_count": null,
   "metadata": {},
   "outputs": [],
   "source": [
    "simSteps.append(B2CCompanyProduces())"
   ]
  },
  {
   "cell_type": "markdown",
   "metadata": {},
   "source": [
    "### Step 9: B2C market setup\n",
    "\n",
    "In this step\n",
    "\n",
    "* B2C company puts the B2C product on the market and\n",
    "* the customers (B2B and B2C workers) put the max. amount of money (`M6`) they are able to spend on B2C product.\n",
    "\n",
    "![Step 9: B2C market setup](img/img13_step09.png)"
   ]
  },
  {
   "cell_type": "markdown",
   "metadata": {},
   "source": [
    "#### Accounting perspective\n",
    "\n",
    "TODO"
   ]
  },
  {
   "cell_type": "code",
   "execution_count": null,
   "metadata": {},
   "outputs": [],
   "source": [
    "class ConsumersBuyB2CProducts1(StateTransition):\n",
    "    def run(self, oldState):\n",
    "        newState = copy.deepcopy(oldState)\n",
    "        newState.step = oldState.step + 1\n",
    "        newState.comment = \"Consumers buy B2C products (part 1)\"\n",
    "        # Insert your transformations here\n",
    "        self.move(newState, Resource.B2C_PRODUCT, Location.B2C_COMPANY, Location.MARKET_B2C)\n",
    "        self.move(newState, Resource.WAGES_B2C, Location.PERSON_2, Location.MARKET_B2C)\n",
    "        self.move(newState, Resource.WAGES_B2B, Location.PERSON_1, Location.MARKET_B2C)\n",
    "        \n",
    "        return newState\n"
   ]
  },
  {
   "cell_type": "code",
   "execution_count": null,
   "metadata": {},
   "outputs": [],
   "source": [
    "simSteps.append(ConsumersBuyB2CProducts1())"
   ]
  },
  {
   "cell_type": "markdown",
   "metadata": {},
   "source": [
    "### Step 10: B2C sells its product to customers\n",
    "\n",
    "In this step\n",
    "\n",
    "* the B2C product (`R2`) travels from B2C company to the consumers (B2B and B2C workers) and\n",
    "* the money paid for it by the consumers (`M6`) travels to the B2C company.\n",
    "\n",
    "![Step 10: B2C sells its product to customers](img/img14_step10.png)"
   ]
  },
  {
   "cell_type": "markdown",
   "metadata": {},
   "source": [
    "#### Accounting perspective\n",
    "\n",
    "TODO"
   ]
  },
  {
   "cell_type": "code",
   "execution_count": null,
   "metadata": {},
   "outputs": [],
   "source": [
    "class ConsumersBuyB2CProducts2(StateTransition):\n",
    "    def run(self, oldState):\n",
    "        newState = copy.deepcopy(oldState)\n",
    "        newState.step = oldState.step + 1\n",
    "        newState.comment = \"Consumers buy B2C products (part 2)\"\n",
    "        # Insert your transformations here\n",
    "        self.removeFromLoc(newState, Location.MARKET_B2C, Resource.WAGES_B2C)\n",
    "        self.removeFromLoc(newState, Location.MARKET_B2C, Resource.WAGES_B2B)\n",
    "        self.put(newState, Resource.MONEY_FOR_B2C_PRODUCT, Location.B2C_COMPANY)\n",
    "        self.removeFromLoc(newState, Location.MARKET_B2C, Resource.B2C_PRODUCT)\n",
    "        self.put(newState, Resource.B2C_PRODUCT, Location.PERSON_1)\n",
    "        self.put(newState, Resource.B2C_PRODUCT, Location.PERSON_2)\n",
    "        return newState\n"
   ]
  },
  {
   "cell_type": "code",
   "execution_count": null,
   "metadata": {},
   "outputs": [],
   "source": [
    "simSteps.append(ConsumersBuyB2CProducts2())"
   ]
  },
  {
   "cell_type": "markdown",
   "metadata": {},
   "source": [
    "### Step 11: Interests grow\n",
    "\n",
    "At the beginning of the simulation the financial system lends both companies money (`M1` and `M2`) at interest ratet `I0`. At the end of the year the debt of both companies to the financial system grows -- this additional debt is depicted as the `M7` and `M8` cubes.\n",
    "\n",
    "![Step 11: Interest rate grows](img/img15_step11.png)"
   ]
  },
  {
   "cell_type": "markdown",
   "metadata": {},
   "source": [
    "#### Accounting perspective\n",
    "\n",
    "TODO"
   ]
  },
  {
   "cell_type": "markdown",
   "metadata": {},
   "source": [
    "### Step 12: B2B and B2C companies pay pack their loans with interest\n",
    "\n",
    "In this step both companies pay back\n",
    "\n",
    "* the principals (`M1` and `M2`) and\n",
    "* the interests (`M7` and `M8`)\n",
    "\n",
    "to the financial system.\n",
    "\n",
    "![Step 12: B2B and B2C companies pay pack their loans with interest](img/img16_step12.png)"
   ]
  },
  {
   "cell_type": "markdown",
   "metadata": {},
   "source": [
    "#### Accounting perspective\n",
    "\n",
    "TODO"
   ]
  },
  {
   "cell_type": "markdown",
   "metadata": {},
   "source": [
    "## Simulation parameters\n",
    "\n",
    "* `M1` (unit: money): Amount of money lent by the financial system to the B2B company\n",
    "* `M2` (unit: money): Amount of money lent by the financial system to the B2C company\n",
    "* `M3` (unit: money): Wages of the B2B worker per year\n",
    "* `I0` (percent): Interest rate for `M1` and `M2` loans."
   ]
  },
  {
   "cell_type": "markdown",
   "metadata": {},
   "source": [
    "## Scenarios\n",
    "\n",
    "Now we can run several scenarios, such as the following:\n",
    "\n",
    "1. Zero interest rate, both markets clear\n",
    "2. Zero interest rate, excess supply on the B2C market\n",
    "3. Zero interest rate, excess demand on the B2C market\n",
    "4. 10 % interest rate, both markets clear\n",
    "5. 20 % interest rate, both markets clear\n",
    "6. 30 % interest rate, both markets clear\n",
    "7. 10 % interest rate, excess supply on the B2C market\n",
    "8. 10 % interest rate, excess supply on the B2C market\n",
    "9. 10 % interest rate, excess supply on the B2C market\n",
    "\n",
    "Clarifications regarding terms are necessary.\n",
    "\n",
    "## Market clearing\n",
    "\n",
    "I say that a market **clears**, when, as a result of exchange between producer and consumer, the producer gets such an amount of money that\n",
    "\n",
    "* the producer can pay for the costs of producing the good (wages, raw materials such as `R1`) and\n",
    "* the loan and interest\n",
    "\n",
    "with the money received from the buyers of its product. The amount received from the buyers can be higher, but not lower than this (if it's lower, then the market does not clear).\n",
    "\n",
    "A market clears, when the producer of the good created\n",
    "\n",
    "* exactly the product that the customers (buyers) want in\n",
    "* exactly the quantity they want to buy.\n",
    "\n",
    "## Excess supply\n",
    "\n",
    "If a producer of a good tries to sell\n",
    "\n",
    "* the wrong product (i. e. something that the customers don't want) or\n",
    "* too much of the product,\n",
    "\n",
    "then I call this situation **excess supply**.\n",
    "\n",
    "## Excess demand\n",
    "\n",
    "That's when a producer tries to sell\n",
    "\n",
    "* the right product (something the buyers want) in\n",
    "* too small quantity."
   ]
  },
  {
   "cell_type": "code",
   "execution_count": null,
   "metadata": {},
   "outputs": [],
   "source": []
  }
 ],
 "metadata": {
  "kernelspec": {
   "display_name": "Python 3",
   "language": "python",
   "name": "python3"
  },
  "language_info": {
   "codemirror_mode": {
    "name": "ipython",
    "version": 3
   },
   "file_extension": ".py",
   "mimetype": "text/x-python",
   "name": "python",
   "nbconvert_exporter": "python",
   "pygments_lexer": "ipython3",
   "version": "3.6.5"
  }
 },
 "nbformat": 4,
 "nbformat_minor": 2
}
